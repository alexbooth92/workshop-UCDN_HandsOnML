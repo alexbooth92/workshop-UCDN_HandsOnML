{
  "cells": [
    {
      "cell_type": "markdown",
      "id": "2d3b3d6f",
      "metadata": {
        "id": "2d3b3d6f"
      },
      "source": [
        "# Python I #\n",
        "\n",
        "The aim of this exercise is to revise some basics of Python programming. We'll also introduce a few useful syntactic features. And you'll also have plenty of chance to practice working within a Jupyter notebook.\n",
        "\n",
        "In this and in every exercise, **instructions that you should follow are in bold**.\n",
        "\n",
        "\n",
        "# Jupyter #\n",
        "\n",
        "Jupyter notebooks are a user-friendly way of running snippets of code and displaying text or graphical results: it's easy to edit your code or to share the results. They are a very convenient way to do initial exploration of a data set or algorithm, although they are not necessarily the best way of running a completed program.\n",
        "\n",
        "The editable boxes you can type code into are called cells. To evaluate a cell, simply make sure that the cursor is in the cell (you may need to double-click it) then press Shift + Enter. As an example, **enter a simple arithmetic operation, say 2 + 2, into the cell below, and evaluate it**:"
      ]
    },
    {
      "cell_type": "code",
      "execution_count": null,
      "id": "b803fd94",
      "metadata": {
        "id": "b803fd94"
      },
      "outputs": [],
      "source": []
    },
    {
      "cell_type": "markdown",
      "id": "175b3541",
      "metadata": {
        "id": "175b3541"
      },
      "source": [
        "You will see that this cell now has a number, like In [1], so that you can refer back to it. Jupyter will display the result of the final calculation in a cell: the output from this one, Out[1]: 4, will now be displayed beneath it. And your cursor will have been moved forward to the next cell.\n",
        "\n",
        "(You can also type Ctrl + Enter to run the cell and keep the cursor inside it – perhaps for more editing – or Alt + Enter to run the cell and insert a new one beneath it. These and many other commands can be found in the command palette by clicking the keyboard icon at the top of the page.)\n",
        "\n",
        "You can type more than a single line into a cell. For instance, consider the simple program below. This calculates the distance that an object, initially at rest, falls under gravitational acceleration in a given time t. Evaluate this cell:"
      ]
    },
    {
      "cell_type": "code",
      "execution_count": null,
      "id": "70255b43",
      "metadata": {
        "id": "70255b43"
      },
      "outputs": [],
      "source": [
        "g = 9.81 # acceleration due to gravity, in m.s^-1\n",
        "t = 10   # time in seconds\n",
        "\n",
        "s = 0.5*g*t**2 # remember that exponentiation is represented in Python by **\n",
        "\n",
        "print(s)"
      ]
    },
    {
      "cell_type": "markdown",
      "id": "b37eec35",
      "metadata": {
        "id": "b37eec35"
      },
      "source": [
        "Note that we didn't have to declare the variables g, t, or s in advance: these \"labels\" are simply created for us by Python when we start using them.\n",
        "Now choose a different time, say t = 20. **Edit the cell above, evaluate it, and confirm that the program prints the correct answer 1962.0**.\n"
      ]
    },
    {
      "cell_type": "markdown",
      "id": "ec27efd5",
      "metadata": {
        "id": "ec27efd5"
      },
      "source": [
        "# Functions #\n",
        "\n",
        "Recall that in Python we can wrap up any piece of code, especially if we might want to re-use it, into a function. To do this we use the keyword def. As an example, let's turn the simple program above into a function. **Evaluate the cell below**:\n",
        "\n"
      ]
    },
    {
      "cell_type": "code",
      "execution_count": null,
      "id": "8806d58c",
      "metadata": {
        "id": "8806d58c"
      },
      "outputs": [],
      "source": [
        "def free_fall_displacement(t, g = 9.81):\n",
        "    s = 0.5*g*t**2\n",
        "    return s"
      ]
    },
    {
      "cell_type": "markdown",
      "id": "80b795e2",
      "metadata": {
        "id": "80b795e2"
      },
      "source": [
        "# Returning values vs printing output #\n",
        "\n",
        "Jupyter notebooks have the useful function that they automatically print out the value of the last expression in a cell. So when you evaluated free_fall_displacement(10), Jupyter printed out the value of the displacement it calculated. You might think it would be equally acceptable to write a function that explicitly prints the value it calculates, something like the following:\n"
      ]
    },
    {
      "cell_type": "code",
      "execution_count": null,
      "id": "52b67eeb",
      "metadata": {
        "id": "52b67eeb"
      },
      "outputs": [],
      "source": [
        "def free_fall_displacement_wrong(t, g = 9.81):\n",
        "    \"\"\"Calculates the displacement after time t of free fall with acceleration g.\n",
        "    Prints the answer rather than returning it, which is a coding mistake!\"\"\"\n",
        "    s = 0.5*g*t**2\n",
        "    print(s)"
      ]
    },
    {
      "cell_type": "markdown",
      "id": "fad47494",
      "metadata": {
        "id": "fad47494"
      },
      "source": [
        "Now free_fall_displacement_wrong(10) should give output that looks very similar to free_fall_displacement(10). **Check this**.\n"
      ]
    },
    {
      "cell_type": "code",
      "execution_count": null,
      "id": "9e28f41f",
      "metadata": {
        "id": "9e28f41f"
      },
      "outputs": [],
      "source": []
    },
    {
      "cell_type": "markdown",
      "id": "47e3c3b1",
      "metadata": {
        "id": "47e3c3b1"
      },
      "source": [
        "But this version is not nearly as useful if we want to do anything further with the results of our calculation. For instance, suppose that we drop an object from the top of a tower 500 m tall, and want to calculate not the displacement from the top but the distance from the bottom of the tower. **Evaluate the following cells. Can you explain why the first version works and the \"wrong\" one doesn't?**\n"
      ]
    },
    {
      "cell_type": "code",
      "execution_count": null,
      "id": "d79fa328",
      "metadata": {
        "id": "d79fa328"
      },
      "outputs": [],
      "source": [
        "500 - free_fall_displacement(10)"
      ]
    },
    {
      "cell_type": "code",
      "execution_count": null,
      "id": "8d6a01d4",
      "metadata": {
        "id": "8d6a01d4"
      },
      "outputs": [],
      "source": [
        "500 - free_fall_displacement_wrong(10)"
      ]
    },
    {
      "cell_type": "markdown",
      "id": "f705989d",
      "metadata": {
        "id": "f705989d"
      },
      "source": [
        "# Visualisation #\n",
        "\n",
        "Modern computers have made visualisation so easy that it should be the first step of almost any data analysis: it is far easier to see what is going on from a picture than from, say, a table of numbers.\n",
        "We will use the matplotlib package to make pictures, which plays very nicely with Jupyter notebooks. In fact in this lab we will specifically be using the pyplot submodule: this is designed to behave similarly to MATLAB plotting, and contains all the functionality we will need for now.\n",
        "**Let's start by evaluating a \"magic\" command that allows plots to be written directly to our notebook:**\n"
      ]
    },
    {
      "cell_type": "code",
      "execution_count": null,
      "id": "5b073635",
      "metadata": {
        "id": "5b073635"
      },
      "outputs": [],
      "source": [
        "%matplotlib inline"
      ]
    },
    {
      "cell_type": "markdown",
      "id": "f35ac5b9",
      "metadata": {
        "id": "f35ac5b9"
      },
      "source": [
        "Next, we need to import pyplot functions:\n"
      ]
    },
    {
      "cell_type": "code",
      "execution_count": null,
      "id": "c7328eb5",
      "metadata": {
        "id": "c7328eb5"
      },
      "outputs": [],
      "source": [
        "import matplotlib.pyplot as plt"
      ]
    },
    {
      "cell_type": "markdown",
      "id": "f149b98e",
      "metadata": {
        "id": "f149b98e"
      },
      "source": [
        "Let's make a plot of cos(x)"
      ]
    },
    {
      "cell_type": "code",
      "execution_count": null,
      "id": "451511e4",
      "metadata": {
        "id": "451511e4"
      },
      "outputs": [],
      "source": [
        "import numpy as np\n",
        "\n",
        "x = np.linspace(-2*np.pi, 2*np.pi, 50)\n",
        "y = np.cos(x)\n",
        "plt.figure()\n",
        "plt.plot(x,y)"
      ]
    },
    {
      "cell_type": "markdown",
      "id": "e26a4673",
      "metadata": {
        "id": "e26a4673"
      },
      "source": [
        "**Now add a second line on the same plot with the derivative of cos(x) and a legend with both lines labelled (google matplotlib legend if you forgot how to do this)**"
      ]
    },
    {
      "cell_type": "code",
      "execution_count": null,
      "id": "6c0c2dc8",
      "metadata": {
        "id": "6c0c2dc8"
      },
      "outputs": [],
      "source": []
    },
    {
      "cell_type": "markdown",
      "id": "08c1f3f9",
      "metadata": {
        "id": "08c1f3f9"
      },
      "source": [
        "# List Comprehensions #\n",
        "\n",
        "A nice feature of python is the ability to do list comprehensions.  Let's say I have a list of numbers and I want to calculate the square root of each:"
      ]
    },
    {
      "cell_type": "code",
      "execution_count": null,
      "id": "1136d32a",
      "metadata": {
        "id": "1136d32a"
      },
      "outputs": [],
      "source": [
        "my_list = [1,4,9,16,25]\n",
        "my_roots = [np.sqrt(x) for x in my_list]\n",
        "print(my_roots)"
      ]
    },
    {
      "cell_type": "markdown",
      "id": "5c79748c",
      "metadata": {
        "id": "5c79748c"
      },
      "source": [
        "This expression takes each element, x, in my_list and applies np.sqrt() to it, returning a new list.  **Now use a list comprehension to apply 2x+1 to the numbers 1 to 100**."
      ]
    },
    {
      "cell_type": "code",
      "execution_count": null,
      "id": "abe392c8",
      "metadata": {
        "id": "abe392c8"
      },
      "outputs": [],
      "source": []
    },
    {
      "cell_type": "markdown",
      "id": "a8089900",
      "metadata": {
        "id": "a8089900"
      },
      "source": [
        "**On a new figure, make a plot of your results**\n"
      ]
    },
    {
      "cell_type": "code",
      "execution_count": null,
      "id": "41814174",
      "metadata": {
        "id": "41814174"
      },
      "outputs": [],
      "source": []
    },
    {
      "cell_type": "markdown",
      "id": "df3deb22",
      "metadata": {
        "id": "df3deb22"
      },
      "source": [
        "# Functional Programming #\n",
        "\n",
        "Python also supports the use of lambda or anonymous functions.  This can come in handy.  Let's say we have a function that takes another function as an arguement:"
      ]
    },
    {
      "cell_type": "code",
      "execution_count": null,
      "id": "97d5ca08",
      "metadata": {
        "id": "97d5ca08"
      },
      "outputs": [],
      "source": [
        "def derivative(derivative_function, values):\n",
        "    return [derivative_function(x) for x in values]"
      ]
    },
    {
      "cell_type": "markdown",
      "id": "f7d5fbe4",
      "metadata": {
        "id": "f7d5fbe4"
      },
      "source": [
        "and let's say our function is $x^2$, so the derivative is $2x$"
      ]
    },
    {
      "cell_type": "code",
      "execution_count": null,
      "id": "0a549bfc",
      "metadata": {
        "id": "0a549bfc"
      },
      "outputs": [],
      "source": [
        "def my_deriv_func(x):\n",
        "    return 2*x"
      ]
    },
    {
      "cell_type": "markdown",
      "id": "d7cdbb7c",
      "metadata": {
        "id": "d7cdbb7c"
      },
      "source": [
        "Now I can pass my function and some values to derivative:"
      ]
    },
    {
      "cell_type": "code",
      "execution_count": null,
      "id": "678ec1fd",
      "metadata": {
        "id": "678ec1fd"
      },
      "outputs": [],
      "source": [
        "xs = np.arange(1,10,1)\n",
        "ys = derivative(my_deriv_func,xs)\n",
        "print(ys)"
      ]
    },
    {
      "cell_type": "markdown",
      "id": "1c54735e",
      "metadata": {
        "id": "1c54735e"
      },
      "source": [
        "Now, this was a lot of typing for something that only needed to be a list comprehension!  In this simple example you actually would just want to use a list comprehension, but in more complicated cases you could avoid explicitely defining my_deriv_func with the use of a lambda function as follows:"
      ]
    },
    {
      "cell_type": "code",
      "execution_count": null,
      "id": "e283a8d7",
      "metadata": {
        "id": "e283a8d7"
      },
      "outputs": [],
      "source": [
        "ys_2 = derivative(lambda x: 2*x, xs)\n",
        "print(ys_2)"
      ]
    },
    {
      "cell_type": "markdown",
      "id": "23574714",
      "metadata": {
        "id": "23574714"
      },
      "source": [
        "**Using lambda functions, make $x^2$ and $x^3$ for the xs.  Plot your results.**"
      ]
    },
    {
      "cell_type": "code",
      "execution_count": null,
      "id": "3997efd0",
      "metadata": {
        "id": "3997efd0"
      },
      "outputs": [],
      "source": []
    }
  ],
  "metadata": {
    "kernelspec": {
      "display_name": "Python 3 (ipykernel)",
      "language": "python",
      "name": "python3"
    },
    "language_info": {
      "codemirror_mode": {
        "name": "ipython",
        "version": 3
      },
      "file_extension": ".py",
      "mimetype": "text/x-python",
      "name": "python",
      "nbconvert_exporter": "python",
      "pygments_lexer": "ipython3",
      "version": "3.9.15"
    },
    "colab": {
      "provenance": []
    }
  },
  "nbformat": 4,
  "nbformat_minor": 5
}